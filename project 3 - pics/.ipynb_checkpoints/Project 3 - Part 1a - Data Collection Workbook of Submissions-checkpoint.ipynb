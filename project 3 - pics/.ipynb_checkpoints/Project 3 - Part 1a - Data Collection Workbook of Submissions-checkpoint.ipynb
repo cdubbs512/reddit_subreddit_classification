{
 "cells": [
  {
   "cell_type": "markdown",
   "metadata": {},
   "source": [
    "<center>\n",
    "    \n",
    "# Part 1a: Data Collection Workbook of Submissions\n",
    "\n",
    "## Christopher Williams Project 3\n",
    "\n",
    "# Barcelona vs Real Madrid - El Clásico de Reddit\n",
    "\n",
    "\n",
    "### Dataset of Subreddits Submissions\n",
    "\n",
    "#### Final dataframe of of Subreddit Submissions is \"dfs\"\n",
    "</center>"
   ]
  },
  {
   "cell_type": "markdown",
   "metadata": {},
   "source": [
    "## From 2 subreddits \n",
    "\n",
    "Subreddits of FC Barcelona and Real Madrid futbol clubs based in Spain.\n",
    "\n",
    "I collected submissions on subreddit from various threads over the course of the past year.\n",
    "\n",
    "* https://www.reddit.com/r/Barca/ \n",
    "* https://www.reddit.com/r/realmadrid/ \n",
    "\n"
   ]
  },
  {
   "cell_type": "code",
   "execution_count": 2,
   "metadata": {},
   "outputs": [],
   "source": [
    "import requests\n",
    "import json\n",
    "import time\n",
    "import pandas as pd\n",
    "import numpy as np\n",
    "\n",
    "\n",
    "from sklearn.model_selection import cross_val_score, train_test_split, GridSearchCV\n",
    "from sklearn.ensemble import ExtraTreesClassifier, RandomForestClassifier\n",
    "\n",
    "import warnings\n",
    "warnings.simplefilter(action='ignore', category=FutureWarning)"
   ]
  },
  {
   "cell_type": "code",
   "execution_count": 3,
   "metadata": {},
   "outputs": [
    {
     "data": {
      "text/plain": [
       "200"
      ]
     },
     "execution_count": 3,
     "metadata": {},
     "output_type": "execute_result"
    }
   ],
   "source": [
    "# create custom user agent\n",
    "headers = {'User-agent': 'bleepbleep bot 0.1'}\n",
    "\n",
    "url = 'https://www.reddit.com/r/Barca/.json'\n",
    "res = requests.get(url, headers=headers)\n",
    "res.status_code"
   ]
  },
  {
   "cell_type": "code",
   "execution_count": 4,
   "metadata": {},
   "outputs": [
    {
     "data": {
      "text/plain": [
       "b'{\"kind\": \"'"
      ]
     },
     "execution_count": 4,
     "metadata": {},
     "output_type": "execute_result"
    }
   ],
   "source": [
    "res.content[:10]"
   ]
  },
  {
   "cell_type": "code",
   "execution_count": 5,
   "metadata": {},
   "outputs": [],
   "source": [
    "# to get dictionary of info on reddit.com/hot.json\n",
    "the_json = res.json()"
   ]
  },
  {
   "cell_type": "code",
   "execution_count": 6,
   "metadata": {},
   "outputs": [
    {
     "data": {
      "text/plain": [
       "['data', 'kind']"
      ]
     },
     "execution_count": 6,
     "metadata": {},
     "output_type": "execute_result"
    }
   ],
   "source": [
    "# check out and sort the dicitonary keys\n",
    "sorted(the_json.keys())"
   ]
  },
  {
   "cell_type": "code",
   "execution_count": 7,
   "metadata": {},
   "outputs": [
    {
     "data": {
      "text/plain": [
       "'Listing'"
      ]
     },
     "execution_count": 7,
     "metadata": {},
     "output_type": "execute_result"
    }
   ],
   "source": [
    "# checkout the 'kind' key\n",
    "the_json['kind']"
   ]
  },
  {
   "cell_type": "code",
   "execution_count": 8,
   "metadata": {},
   "outputs": [
    {
     "data": {
      "text/plain": [
       "['after', 'before', 'children', 'dist', 'modhash']"
      ]
     },
     "execution_count": 8,
     "metadata": {},
     "output_type": "execute_result"
    }
   ],
   "source": [
    "# most data lives in this case under the 'data' key\n",
    "sorted(the_json['data'])"
   ]
  },
  {
   "cell_type": "code",
   "execution_count": 9,
   "metadata": {},
   "outputs": [
    {
     "data": {
      "text/plain": [
       "['after', 'before', 'children', 'dist', 'modhash']"
      ]
     },
     "execution_count": 9,
     "metadata": {},
     "output_type": "execute_result"
    }
   ],
   "source": [
    "# 'children' is the id of the 25 post per page\n",
    "# 'after' is the id of the last post in this list \n",
    "sorted(the_json['data'].keys())"
   ]
  },
  {
   "cell_type": "code",
   "execution_count": 10,
   "metadata": {
    "scrolled": true
   },
   "outputs": [
    {
     "data": {
      "text/plain": [
       "27"
      ]
     },
     "execution_count": 10,
     "metadata": {},
     "output_type": "execute_result"
    }
   ],
   "source": [
    "# here are your post\n",
    "the_json['data']['children']\n",
    "# length of data\n",
    "len(the_json['data']['children'])"
   ]
  },
  {
   "cell_type": "code",
   "execution_count": 11,
   "metadata": {},
   "outputs": [
    {
     "data": {
      "text/plain": [
       "'t3_a6t7q1'"
      ]
     },
     "execution_count": 11,
     "metadata": {},
     "output_type": "execute_result"
    }
   ],
   "source": [
    "# here's the id of the last post \n",
    "# the_json['data']['after']\n",
    "the_json['data']['after']"
   ]
  },
  {
   "cell_type": "code",
   "execution_count": 12,
   "metadata": {},
   "outputs": [],
   "source": [
    "# names of all the post in the 25 reddit post on that page\n",
    "\n",
    "list_first_25_post = [post['data']['name'] for post in the_json['data']['children']]"
   ]
  },
  {
   "cell_type": "code",
   "execution_count": 13,
   "metadata": {},
   "outputs": [],
   "source": [
    "# set params dict\n",
    "\n",
    "param = {'after': 't3_a78qxw'}"
   ]
  },
  {
   "cell_type": "code",
   "execution_count": 14,
   "metadata": {},
   "outputs": [
    {
     "data": {
      "text/plain": [
       "<Response [200]>"
      ]
     },
     "execution_count": 14,
     "metadata": {},
     "output_type": "execute_result"
    }
   ],
   "source": [
    "requests.get(url, params=param, headers=headers)"
   ]
  },
  {
   "cell_type": "code",
   "execution_count": 15,
   "metadata": {},
   "outputs": [],
   "source": [
    "# title, subreddit, view_count, permalink, num_comments, ups, downs, url, id"
   ]
  },
  {
   "cell_type": "code",
   "execution_count": 16,
   "metadata": {},
   "outputs": [
    {
     "data": {
      "text/plain": [
       "'https://twitter.com/fcbarcelona/status/1075821062087237632?s=21'"
      ]
     },
     "execution_count": 16,
     "metadata": {},
     "output_type": "execute_result"
    }
   ],
   "source": [
    "the_json['data']['children'][3]['data']['url']"
   ]
  },
  {
   "cell_type": "code",
   "execution_count": 17,
   "metadata": {},
   "outputs": [
    {
     "data": {
      "text/plain": [
       "'/r/Barca/comments/a80w1m/fc_barcelona_sign_murillo/'"
      ]
     },
     "execution_count": 17,
     "metadata": {},
     "output_type": "execute_result"
    }
   ],
   "source": [
    "the_json['data']['children'][3]['data']['permalink']"
   ]
  },
  {
   "cell_type": "code",
   "execution_count": 18,
   "metadata": {
    "scrolled": true
   },
   "outputs": [
    {
     "data": {
      "text/plain": [
       "['approved_at_utc',\n",
       " 'subreddit',\n",
       " 'selftext',\n",
       " 'author_fullname',\n",
       " 'saved',\n",
       " 'mod_reason_title',\n",
       " 'gilded',\n",
       " 'clicked',\n",
       " 'title',\n",
       " 'link_flair_richtext',\n",
       " 'subreddit_name_prefixed',\n",
       " 'hidden',\n",
       " 'pwls',\n",
       " 'link_flair_css_class',\n",
       " 'downs',\n",
       " 'thumbnail_height',\n",
       " 'hide_score',\n",
       " 'name',\n",
       " 'quarantine',\n",
       " 'link_flair_text_color',\n",
       " 'author_flair_background_color',\n",
       " 'subreddit_type',\n",
       " 'ups',\n",
       " 'domain',\n",
       " 'media_embed',\n",
       " 'thumbnail_width',\n",
       " 'author_flair_template_id',\n",
       " 'is_original_content',\n",
       " 'user_reports',\n",
       " 'secure_media',\n",
       " 'is_reddit_media_domain',\n",
       " 'is_meta',\n",
       " 'category',\n",
       " 'secure_media_embed',\n",
       " 'link_flair_text',\n",
       " 'can_mod_post',\n",
       " 'score',\n",
       " 'approved_by',\n",
       " 'thumbnail',\n",
       " 'edited',\n",
       " 'author_flair_css_class',\n",
       " 'author_flair_richtext',\n",
       " 'gildings',\n",
       " 'post_hint',\n",
       " 'content_categories',\n",
       " 'is_self',\n",
       " 'mod_note',\n",
       " 'created',\n",
       " 'link_flair_type',\n",
       " 'wls',\n",
       " 'banned_by',\n",
       " 'author_flair_type',\n",
       " 'contest_mode',\n",
       " 'selftext_html',\n",
       " 'likes',\n",
       " 'suggested_sort',\n",
       " 'banned_at_utc',\n",
       " 'view_count',\n",
       " 'archived',\n",
       " 'no_follow',\n",
       " 'is_crosspostable',\n",
       " 'pinned',\n",
       " 'over_18',\n",
       " 'preview',\n",
       " 'media_only',\n",
       " 'link_flair_template_id',\n",
       " 'can_gild',\n",
       " 'spoiler',\n",
       " 'locked',\n",
       " 'author_flair_text',\n",
       " 'visited',\n",
       " 'num_reports',\n",
       " 'distinguished',\n",
       " 'subreddit_id',\n",
       " 'mod_reason_by',\n",
       " 'removal_reason',\n",
       " 'link_flair_background_color',\n",
       " 'id',\n",
       " 'is_robot_indexable',\n",
       " 'report_reasons',\n",
       " 'author',\n",
       " 'num_crossposts',\n",
       " 'num_comments',\n",
       " 'send_replies',\n",
       " 'whitelist_status',\n",
       " 'mod_reports',\n",
       " 'author_patreon_flair',\n",
       " 'author_flair_text_color',\n",
       " 'permalink',\n",
       " 'parent_whitelist_status',\n",
       " 'stickied',\n",
       " 'url',\n",
       " 'subreddit_subscribers',\n",
       " 'created_utc',\n",
       " 'media',\n",
       " 'is_video']"
      ]
     },
     "execution_count": 18,
     "metadata": {},
     "output_type": "execute_result"
    }
   ],
   "source": [
    "# keys of the data's children\n",
    "list(the_json['data']['children'][0]['data'].keys())"
   ]
  },
  {
   "cell_type": "code",
   "execution_count": 19,
   "metadata": {},
   "outputs": [
    {
     "data": {
      "text/plain": [
       "27"
      ]
     },
     "execution_count": 19,
     "metadata": {},
     "output_type": "execute_result"
    }
   ],
   "source": [
    "len(the_json['data']['children'])"
   ]
  },
  {
   "cell_type": "markdown",
   "metadata": {},
   "source": [
    "## Create DataFrame from FC Barcelona Subreddit"
   ]
  },
  {
   "cell_type": "code",
   "execution_count": 20,
   "metadata": {
    "scrolled": false
   },
   "outputs": [
    {
     "name": "stdout",
     "output_type": "stream",
     "text": [
      "through 5 pages\n",
      "through 10 pages\n",
      "through 15 pages\n",
      "through 20 pages\n",
      "through 25 pages\n",
      "through 30 pages\n",
      "through 35 pages\n",
      "through 40 pages\n",
      "through 45 pages\n",
      "Shape of dfb: (1109, 9)\n"
     ]
    }
   ],
   "source": [
    "# Create the dataframe of Barcelona's  https://www.reddit.com/r/Barca/ as dfb\n",
    "# subreddit, title, subscribers, permalink, num_comments, ups, downs, url, id\n",
    "\n",
    "n = 45     # number of pages to loop through\n",
    "url = 'https://www.reddit.com/r/Barca/.json'\n",
    "\n",
    "subreddit = []\n",
    "title = []\n",
    "subscribers = []\n",
    "num_comments = []\n",
    "ups = []\n",
    "downs = []\n",
    "urls = []  # 'url' in reddit\n",
    "permalink = []\n",
    "ids = []   # 'id' in reddit\n",
    "counter = 0\n",
    "\n",
    "dfb = pd.DataFrame(columns = ['subreddit', 'title', 'num_comments', 'up votes', 'down votes', 'urls', 'permalink', 'ids'])\n",
    "after = None   # set after to None as default, so first hit of reddit url no params are passed\n",
    "for i in range(n):\n",
    "    counter +=1\n",
    "    if counter % 5 == 0:\n",
    "        print(f'through {counter} pages')\n",
    "    if after == None: \n",
    "        params = {}\n",
    "    else: \n",
    "        params = {'after': after}\n",
    "    \n",
    "    res = requests.get(url, params=params, headers=headers)\n",
    "    if res.status_code == 200:\n",
    "        the_json = res.json()\n",
    "        \n",
    "        for i in range(len(the_json['data']['children'])):    \n",
    "            \n",
    "            subreddit.append(the_json['data']['children'][i]['data']['subreddit'])    \n",
    "            title.append(the_json['data']['children'][i]['data']['title'])\n",
    "            subscribers.append(the_json['data']['children'][i]['data']['subreddit_subscribers'])\n",
    "            num_comments.append(the_json['data']['children'][i]['data']['num_comments'])\n",
    "            ups.append(the_json['data']['children'][i]['data']['ups'])\n",
    "            downs.append(the_json['data']['children'][i]['data']['downs'])\n",
    "            urls.append(the_json['data']['children'][i]['data']['url'])\n",
    "            permalink.append(the_json['data']['children'][i]['data']['permalink'])\n",
    "            ids.append(the_json['data']['children'][i]['data']['id'])\n",
    "            \n",
    "    \n",
    "        after = the_json['data']['after'] \n",
    "    else: \n",
    "        print(res.status_code)\n",
    "        break\n",
    "    time.sleep(.5)      # in order to give break on server \n",
    "\n",
    "    \n",
    "dfb['subreddit'] = subreddit\n",
    "dfb['title'] = title\n",
    "dfb['subscribers'] = subscribers\n",
    "dfb['num_comments'] = num_comments\n",
    "dfb['up votes'] = ups\n",
    "dfb['down votes'] = downs\n",
    "dfb['urls'] = urls\n",
    "dfb['permalink'] = permalink\n",
    "dfb['ids'] = ids      \n",
    "\n",
    "print('Shape of dfb: ' + str(dfb.shape))"
   ]
  },
  {
   "cell_type": "code",
   "execution_count": 21,
   "metadata": {},
   "outputs": [
    {
     "data": {
      "text/plain": [
       "(1109, 9)"
      ]
     },
     "execution_count": 21,
     "metadata": {},
     "output_type": "execute_result"
    }
   ],
   "source": [
    "# check shape of dfb of Barca subreddit \n",
    "dfb.shape"
   ]
  },
  {
   "cell_type": "code",
   "execution_count": 22,
   "metadata": {},
   "outputs": [
    {
     "data": {
      "text/html": [
       "<div>\n",
       "<style scoped>\n",
       "    .dataframe tbody tr th:only-of-type {\n",
       "        vertical-align: middle;\n",
       "    }\n",
       "\n",
       "    .dataframe tbody tr th {\n",
       "        vertical-align: top;\n",
       "    }\n",
       "\n",
       "    .dataframe thead th {\n",
       "        text-align: right;\n",
       "    }\n",
       "</style>\n",
       "<table border=\"1\" class=\"dataframe\">\n",
       "  <thead>\n",
       "    <tr style=\"text-align: right;\">\n",
       "      <th></th>\n",
       "      <th>subreddit</th>\n",
       "      <th>title</th>\n",
       "      <th>num_comments</th>\n",
       "      <th>up votes</th>\n",
       "      <th>down votes</th>\n",
       "      <th>urls</th>\n",
       "      <th>permalink</th>\n",
       "      <th>ids</th>\n",
       "      <th>subscribers</th>\n",
       "    </tr>\n",
       "  </thead>\n",
       "  <tbody>\n",
       "    <tr>\n",
       "      <th>0</th>\n",
       "      <td>Barca</td>\n",
       "      <td>Post Match Thread: Levante UD 0-5 FC Barcelona...</td>\n",
       "      <td>181</td>\n",
       "      <td>114</td>\n",
       "      <td>0</td>\n",
       "      <td>https://www.reddit.com/r/Barca/comments/a6t8oj...</td>\n",
       "      <td>/r/Barca/comments/a6t8oj/post_match_thread_lev...</td>\n",
       "      <td>a6t8oj</td>\n",
       "      <td>38824</td>\n",
       "    </tr>\n",
       "    <tr>\n",
       "      <th>1</th>\n",
       "      <td>Barca</td>\n",
       "      <td>Open Thread: Art, photos, videos, general ques...</td>\n",
       "      <td>797</td>\n",
       "      <td>36</td>\n",
       "      <td>0</td>\n",
       "      <td>https://www.reddit.com/r/Barca/comments/a6zeun...</td>\n",
       "      <td>/r/Barca/comments/a6zeun/open_thread_art_photo...</td>\n",
       "      <td>a6zeun</td>\n",
       "      <td>38824</td>\n",
       "    </tr>\n",
       "    <tr>\n",
       "      <th>2</th>\n",
       "      <td>Barca</td>\n",
       "      <td>Ivan Rakitic's volley against Tottenham in Wem...</td>\n",
       "      <td>24</td>\n",
       "      <td>338</td>\n",
       "      <td>0</td>\n",
       "      <td>https://twitter.com/ChampionsLeague/status/107...</td>\n",
       "      <td>/r/Barca/comments/a7zjaz/ivan_rakitics_volley_...</td>\n",
       "      <td>a7zjaz</td>\n",
       "      <td>38824</td>\n",
       "    </tr>\n",
       "    <tr>\n",
       "      <th>3</th>\n",
       "      <td>Barca</td>\n",
       "      <td>FC Barcelona Sign Murillo</td>\n",
       "      <td>56</td>\n",
       "      <td>87</td>\n",
       "      <td>0</td>\n",
       "      <td>https://twitter.com/fcbarcelona/status/1075821...</td>\n",
       "      <td>/r/Barca/comments/a80w1m/fc_barcelona_sign_mur...</td>\n",
       "      <td>a80w1m</td>\n",
       "      <td>38824</td>\n",
       "    </tr>\n",
       "    <tr>\n",
       "      <th>4</th>\n",
       "      <td>Barca</td>\n",
       "      <td>Messi donates 100,000 euros in healthcare prod...</td>\n",
       "      <td>20</td>\n",
       "      <td>55</td>\n",
       "      <td>0</td>\n",
       "      <td>https://www.marca.com/en/football/barcelona/20...</td>\n",
       "      <td>/r/Barca/comments/a80ajl/messi_donates_100000_...</td>\n",
       "      <td>a80ajl</td>\n",
       "      <td>38824</td>\n",
       "    </tr>\n",
       "  </tbody>\n",
       "</table>\n",
       "</div>"
      ],
      "text/plain": [
       "  subreddit                                              title  num_comments  \\\n",
       "0     Barca  Post Match Thread: Levante UD 0-5 FC Barcelona...           181   \n",
       "1     Barca  Open Thread: Art, photos, videos, general ques...           797   \n",
       "2     Barca  Ivan Rakitic's volley against Tottenham in Wem...            24   \n",
       "3     Barca                          FC Barcelona Sign Murillo            56   \n",
       "4     Barca  Messi donates 100,000 euros in healthcare prod...            20   \n",
       "\n",
       "   up votes  down votes                                               urls  \\\n",
       "0       114           0  https://www.reddit.com/r/Barca/comments/a6t8oj...   \n",
       "1        36           0  https://www.reddit.com/r/Barca/comments/a6zeun...   \n",
       "2       338           0  https://twitter.com/ChampionsLeague/status/107...   \n",
       "3        87           0  https://twitter.com/fcbarcelona/status/1075821...   \n",
       "4        55           0  https://www.marca.com/en/football/barcelona/20...   \n",
       "\n",
       "                                           permalink     ids  subscribers  \n",
       "0  /r/Barca/comments/a6t8oj/post_match_thread_lev...  a6t8oj        38824  \n",
       "1  /r/Barca/comments/a6zeun/open_thread_art_photo...  a6zeun        38824  \n",
       "2  /r/Barca/comments/a7zjaz/ivan_rakitics_volley_...  a7zjaz        38824  \n",
       "3  /r/Barca/comments/a80w1m/fc_barcelona_sign_mur...  a80w1m        38824  \n",
       "4  /r/Barca/comments/a80ajl/messi_donates_100000_...  a80ajl        38824  "
      ]
     },
     "execution_count": 22,
     "metadata": {},
     "output_type": "execute_result"
    }
   ],
   "source": [
    "# check head of dfb of Barca subreddit \n",
    "dfb.head()"
   ]
  },
  {
   "cell_type": "markdown",
   "metadata": {},
   "source": [
    "## Create DataFrame from Real Madrid Subreddit"
   ]
  },
  {
   "cell_type": "code",
   "execution_count": 23,
   "metadata": {},
   "outputs": [
    {
     "name": "stdout",
     "output_type": "stream",
     "text": [
      "through 5 pages\n",
      "through 10 pages\n",
      "through 15 pages\n",
      "through 20 pages\n",
      "through 25 pages\n",
      "through 30 pages\n",
      "through 35 pages\n",
      "through 40 pages\n",
      "through 45 pages\n",
      "Shape of dfr: (1123, 9)\n"
     ]
    }
   ],
   "source": [
    "# Create the dataframe of Real Madrid's  https://www.reddit.com/r/realmadrid/ as dfr\n",
    "# subreddit, title, subscribers, permalink, num_comments, ups, downs, url, id\n",
    "\n",
    "n = 45     # number of pages to loop through\n",
    "url = 'https://www.reddit.com/r/realmadrid/.json'\n",
    "\n",
    "subreddit = []\n",
    "title = []\n",
    "subscribers = []\n",
    "num_comments = []\n",
    "ups = []\n",
    "downs = []\n",
    "urls = []  # 'url' in reddit\n",
    "permalink = []\n",
    "ids = []   # 'id' in reddit\n",
    "counter = 0\n",
    "\n",
    "dfr = pd.DataFrame(columns = ['subreddit', 'title', 'num_comments', 'up votes', 'down votes', 'urls', 'permalink', 'ids'])\n",
    "after = None   # set after to None as default, so first hit of reddit url no params are passed\n",
    "for i in range(n):\n",
    "    counter +=1\n",
    "    if counter % 5 == 0:\n",
    "        print(f'through {counter} pages')\n",
    "    if after == None: \n",
    "        params = {}\n",
    "    else: \n",
    "        params = {'after': after}\n",
    "    \n",
    "    res = requests.get(url, params=params, headers=headers)\n",
    "    if res.status_code == 200:\n",
    "        the_json = res.json()\n",
    "        \n",
    "        for i in range(len(the_json['data']['children'])):    \n",
    "            \n",
    "            subreddit.append(the_json['data']['children'][i]['data']['subreddit'])    \n",
    "            title.append(the_json['data']['children'][i]['data']['title'])\n",
    "            subscribers.append(the_json['data']['children'][i]['data']['subreddit_subscribers'])\n",
    "            num_comments.append(the_json['data']['children'][i]['data']['num_comments'])\n",
    "            ups.append(the_json['data']['children'][i]['data']['ups'])\n",
    "            downs.append(the_json['data']['children'][i]['data']['downs'])\n",
    "            urls.append(the_json['data']['children'][i]['data']['url'])\n",
    "            permalink.append(the_json['data']['children'][i]['data']['permalink'])\n",
    "            ids.append(the_json['data']['children'][i]['data']['id'])\n",
    "            \n",
    "    \n",
    "        after = the_json['data']['after'] \n",
    "    else: \n",
    "        print(res.status_code)\n",
    "        break\n",
    "    time.sleep(.5)      # in order to give break on server \n",
    "\n",
    "    \n",
    "dfr['subreddit'] = subreddit\n",
    "dfr['title'] = title\n",
    "dfr['subscribers'] = subscribers\n",
    "dfr['num_comments'] = num_comments\n",
    "dfr['up votes'] = ups\n",
    "dfr['down votes'] = downs\n",
    "dfr['urls'] = urls\n",
    "dfr['permalink'] = permalink\n",
    "dfr['ids'] = ids      \n",
    "\n",
    "print('Shape of dfr: ' + str(dfr.shape))"
   ]
  },
  {
   "cell_type": "code",
   "execution_count": 24,
   "metadata": {},
   "outputs": [
    {
     "data": {
      "text/plain": [
       "(1123, 9)"
      ]
     },
     "execution_count": 24,
     "metadata": {},
     "output_type": "execute_result"
    }
   ],
   "source": [
    "# check shape of dfr of Real Madrid's subreddit \n",
    "dfr.shape"
   ]
  },
  {
   "cell_type": "code",
   "execution_count": 25,
   "metadata": {},
   "outputs": [
    {
     "data": {
      "text/html": [
       "<div>\n",
       "<style scoped>\n",
       "    .dataframe tbody tr th:only-of-type {\n",
       "        vertical-align: middle;\n",
       "    }\n",
       "\n",
       "    .dataframe tbody tr th {\n",
       "        vertical-align: top;\n",
       "    }\n",
       "\n",
       "    .dataframe thead th {\n",
       "        text-align: right;\n",
       "    }\n",
       "</style>\n",
       "<table border=\"1\" class=\"dataframe\">\n",
       "  <thead>\n",
       "    <tr style=\"text-align: right;\">\n",
       "      <th></th>\n",
       "      <th>subreddit</th>\n",
       "      <th>title</th>\n",
       "      <th>num_comments</th>\n",
       "      <th>up votes</th>\n",
       "      <th>down votes</th>\n",
       "      <th>urls</th>\n",
       "      <th>permalink</th>\n",
       "      <th>ids</th>\n",
       "      <th>subscribers</th>\n",
       "    </tr>\n",
       "  </thead>\n",
       "  <tbody>\n",
       "    <tr>\n",
       "      <th>0</th>\n",
       "      <td>realmadrid</td>\n",
       "      <td>Found this pic of Ronaldo recently that I took...</td>\n",
       "      <td>19</td>\n",
       "      <td>257</td>\n",
       "      <td>0</td>\n",
       "      <td>https://i.redd.it/4rhly4ah3f521.jpg</td>\n",
       "      <td>/r/realmadrid/comments/a7wynr/found_this_pic_o...</td>\n",
       "      <td>a7wynr</td>\n",
       "      <td>31890</td>\n",
       "    </tr>\n",
       "    <tr>\n",
       "      <th>1</th>\n",
       "      <td>realmadrid</td>\n",
       "      <td>Courtois Appreciation</td>\n",
       "      <td>11</td>\n",
       "      <td>39</td>\n",
       "      <td>0</td>\n",
       "      <td>https://imgur.com/ObBttkX</td>\n",
       "      <td>/r/realmadrid/comments/a80i2r/courtois_appreci...</td>\n",
       "      <td>a80i2r</td>\n",
       "      <td>31890</td>\n",
       "    </tr>\n",
       "    <tr>\n",
       "      <th>2</th>\n",
       "      <td>realmadrid</td>\n",
       "      <td>Reasons we love Marcelo #129837</td>\n",
       "      <td>9</td>\n",
       "      <td>385</td>\n",
       "      <td>0</td>\n",
       "      <td>https://i.redd.it/pxucj6mufc521.jpg</td>\n",
       "      <td>/r/realmadrid/comments/a7te1c/reasons_we_love_...</td>\n",
       "      <td>a7te1c</td>\n",
       "      <td>31890</td>\n",
       "    </tr>\n",
       "    <tr>\n",
       "      <th>3</th>\n",
       "      <td>realmadrid</td>\n",
       "      <td>Real Madrid sign the 18 year old youth Mohamed...</td>\n",
       "      <td>7</td>\n",
       "      <td>24</td>\n",
       "      <td>0</td>\n",
       "      <td>https://www.marca.com/futbol/real-madrid/2018/...</td>\n",
       "      <td>/r/realmadrid/comments/a7zo62/real_madrid_sign...</td>\n",
       "      <td>a7zo62</td>\n",
       "      <td>31890</td>\n",
       "    </tr>\n",
       "    <tr>\n",
       "      <th>4</th>\n",
       "      <td>realmadrid</td>\n",
       "      <td>Real Madrid have already signed Melila's Ace[M...</td>\n",
       "      <td>7</td>\n",
       "      <td>19</td>\n",
       "      <td>0</td>\n",
       "      <td>http://sportsjoint.in/2018/12/20/breaking-real...</td>\n",
       "      <td>/r/realmadrid/comments/a7zekx/real_madrid_have...</td>\n",
       "      <td>a7zekx</td>\n",
       "      <td>31890</td>\n",
       "    </tr>\n",
       "  </tbody>\n",
       "</table>\n",
       "</div>"
      ],
      "text/plain": [
       "    subreddit                                              title  \\\n",
       "0  realmadrid  Found this pic of Ronaldo recently that I took...   \n",
       "1  realmadrid                              Courtois Appreciation   \n",
       "2  realmadrid                    Reasons we love Marcelo #129837   \n",
       "3  realmadrid  Real Madrid sign the 18 year old youth Mohamed...   \n",
       "4  realmadrid  Real Madrid have already signed Melila's Ace[M...   \n",
       "\n",
       "   num_comments  up votes  down votes  \\\n",
       "0            19       257           0   \n",
       "1            11        39           0   \n",
       "2             9       385           0   \n",
       "3             7        24           0   \n",
       "4             7        19           0   \n",
       "\n",
       "                                                urls  \\\n",
       "0                https://i.redd.it/4rhly4ah3f521.jpg   \n",
       "1                          https://imgur.com/ObBttkX   \n",
       "2                https://i.redd.it/pxucj6mufc521.jpg   \n",
       "3  https://www.marca.com/futbol/real-madrid/2018/...   \n",
       "4  http://sportsjoint.in/2018/12/20/breaking-real...   \n",
       "\n",
       "                                           permalink     ids  subscribers  \n",
       "0  /r/realmadrid/comments/a7wynr/found_this_pic_o...  a7wynr        31890  \n",
       "1  /r/realmadrid/comments/a80i2r/courtois_appreci...  a80i2r        31890  \n",
       "2  /r/realmadrid/comments/a7te1c/reasons_we_love_...  a7te1c        31890  \n",
       "3  /r/realmadrid/comments/a7zo62/real_madrid_sign...  a7zo62        31890  \n",
       "4  /r/realmadrid/comments/a7zekx/real_madrid_have...  a7zekx        31890  "
      ]
     },
     "execution_count": 25,
     "metadata": {},
     "output_type": "execute_result"
    }
   ],
   "source": [
    "# check head of dfr of Real Madrid's subreddit \n",
    "dfr.head()"
   ]
  },
  {
   "cell_type": "markdown",
   "metadata": {},
   "source": [
    "## Create a Dataframe df of both Barca and Real Madrid dataframes (dfb and dfr)"
   ]
  },
  {
   "cell_type": "code",
   "execution_count": 26,
   "metadata": {},
   "outputs": [
    {
     "data": {
      "text/html": [
       "<div>\n",
       "<style scoped>\n",
       "    .dataframe tbody tr th:only-of-type {\n",
       "        vertical-align: middle;\n",
       "    }\n",
       "\n",
       "    .dataframe tbody tr th {\n",
       "        vertical-align: top;\n",
       "    }\n",
       "\n",
       "    .dataframe thead th {\n",
       "        text-align: right;\n",
       "    }\n",
       "</style>\n",
       "<table border=\"1\" class=\"dataframe\">\n",
       "  <thead>\n",
       "    <tr style=\"text-align: right;\">\n",
       "      <th></th>\n",
       "      <th>subreddit</th>\n",
       "      <th>title</th>\n",
       "      <th>num_comments</th>\n",
       "      <th>up votes</th>\n",
       "      <th>down votes</th>\n",
       "      <th>urls</th>\n",
       "      <th>permalink</th>\n",
       "      <th>ids</th>\n",
       "      <th>subscribers</th>\n",
       "    </tr>\n",
       "  </thead>\n",
       "  <tbody>\n",
       "    <tr>\n",
       "      <th>0</th>\n",
       "      <td>Barca</td>\n",
       "      <td>Post Match Thread: Levante UD 0-5 FC Barcelona...</td>\n",
       "      <td>181</td>\n",
       "      <td>114</td>\n",
       "      <td>0</td>\n",
       "      <td>https://www.reddit.com/r/Barca/comments/a6t8oj...</td>\n",
       "      <td>/r/Barca/comments/a6t8oj/post_match_thread_lev...</td>\n",
       "      <td>a6t8oj</td>\n",
       "      <td>38824</td>\n",
       "    </tr>\n",
       "    <tr>\n",
       "      <th>1</th>\n",
       "      <td>Barca</td>\n",
       "      <td>Open Thread: Art, photos, videos, general ques...</td>\n",
       "      <td>797</td>\n",
       "      <td>36</td>\n",
       "      <td>0</td>\n",
       "      <td>https://www.reddit.com/r/Barca/comments/a6zeun...</td>\n",
       "      <td>/r/Barca/comments/a6zeun/open_thread_art_photo...</td>\n",
       "      <td>a6zeun</td>\n",
       "      <td>38824</td>\n",
       "    </tr>\n",
       "    <tr>\n",
       "      <th>2</th>\n",
       "      <td>Barca</td>\n",
       "      <td>Ivan Rakitic's volley against Tottenham in Wem...</td>\n",
       "      <td>24</td>\n",
       "      <td>338</td>\n",
       "      <td>0</td>\n",
       "      <td>https://twitter.com/ChampionsLeague/status/107...</td>\n",
       "      <td>/r/Barca/comments/a7zjaz/ivan_rakitics_volley_...</td>\n",
       "      <td>a7zjaz</td>\n",
       "      <td>38824</td>\n",
       "    </tr>\n",
       "    <tr>\n",
       "      <th>3</th>\n",
       "      <td>Barca</td>\n",
       "      <td>FC Barcelona Sign Murillo</td>\n",
       "      <td>56</td>\n",
       "      <td>87</td>\n",
       "      <td>0</td>\n",
       "      <td>https://twitter.com/fcbarcelona/status/1075821...</td>\n",
       "      <td>/r/Barca/comments/a80w1m/fc_barcelona_sign_mur...</td>\n",
       "      <td>a80w1m</td>\n",
       "      <td>38824</td>\n",
       "    </tr>\n",
       "    <tr>\n",
       "      <th>4</th>\n",
       "      <td>Barca</td>\n",
       "      <td>Messi donates 100,000 euros in healthcare prod...</td>\n",
       "      <td>20</td>\n",
       "      <td>55</td>\n",
       "      <td>0</td>\n",
       "      <td>https://www.marca.com/en/football/barcelona/20...</td>\n",
       "      <td>/r/Barca/comments/a80ajl/messi_donates_100000_...</td>\n",
       "      <td>a80ajl</td>\n",
       "      <td>38824</td>\n",
       "    </tr>\n",
       "  </tbody>\n",
       "</table>\n",
       "</div>"
      ],
      "text/plain": [
       "  subreddit                                              title  num_comments  \\\n",
       "0     Barca  Post Match Thread: Levante UD 0-5 FC Barcelona...           181   \n",
       "1     Barca  Open Thread: Art, photos, videos, general ques...           797   \n",
       "2     Barca  Ivan Rakitic's volley against Tottenham in Wem...            24   \n",
       "3     Barca                          FC Barcelona Sign Murillo            56   \n",
       "4     Barca  Messi donates 100,000 euros in healthcare prod...            20   \n",
       "\n",
       "   up votes  down votes                                               urls  \\\n",
       "0       114           0  https://www.reddit.com/r/Barca/comments/a6t8oj...   \n",
       "1        36           0  https://www.reddit.com/r/Barca/comments/a6zeun...   \n",
       "2       338           0  https://twitter.com/ChampionsLeague/status/107...   \n",
       "3        87           0  https://twitter.com/fcbarcelona/status/1075821...   \n",
       "4        55           0  https://www.marca.com/en/football/barcelona/20...   \n",
       "\n",
       "                                           permalink     ids  subscribers  \n",
       "0  /r/Barca/comments/a6t8oj/post_match_thread_lev...  a6t8oj        38824  \n",
       "1  /r/Barca/comments/a6zeun/open_thread_art_photo...  a6zeun        38824  \n",
       "2  /r/Barca/comments/a7zjaz/ivan_rakitics_volley_...  a7zjaz        38824  \n",
       "3  /r/Barca/comments/a80w1m/fc_barcelona_sign_mur...  a80w1m        38824  \n",
       "4  /r/Barca/comments/a80ajl/messi_donates_100000_...  a80ajl        38824  "
      ]
     },
     "execution_count": 26,
     "metadata": {},
     "output_type": "execute_result"
    }
   ],
   "source": [
    "# Create df of concated dfb and dfr\n",
    "df = pd.concat([dfb, dfr], axis=0, ignore_index=True)\n",
    "df.head()"
   ]
  },
  {
   "cell_type": "code",
   "execution_count": 27,
   "metadata": {},
   "outputs": [
    {
     "data": {
      "text/plain": [
       "(2232, 9)"
      ]
     },
     "execution_count": 27,
     "metadata": {},
     "output_type": "execute_result"
    }
   ],
   "source": [
    "# check shape of df\n",
    "df.shape"
   ]
  },
  {
   "cell_type": "code",
   "execution_count": 28,
   "metadata": {},
   "outputs": [
    {
     "data": {
      "text/plain": [
       "realmadrid    1123\n",
       "Barca         1109\n",
       "Name: subreddit, dtype: int64"
      ]
     },
     "execution_count": 28,
     "metadata": {},
     "output_type": "execute_result"
    }
   ],
   "source": [
    "# check value count of df\n",
    "df.subreddit.value_counts()"
   ]
  },
  {
   "cell_type": "markdown",
   "metadata": {},
   "source": [
    "## Export the dataframe to CSV called Barca_Madrid"
   ]
  },
  {
   "cell_type": "code",
   "execution_count": 29,
   "metadata": {},
   "outputs": [],
   "source": [
    "# print to csv\n",
    "\n",
    "df.to_csv('dfs.csv', index=False)"
   ]
  },
  {
   "cell_type": "code",
   "execution_count": 30,
   "metadata": {},
   "outputs": [
    {
     "data": {
      "text/html": [
       "<div>\n",
       "<style scoped>\n",
       "    .dataframe tbody tr th:only-of-type {\n",
       "        vertical-align: middle;\n",
       "    }\n",
       "\n",
       "    .dataframe tbody tr th {\n",
       "        vertical-align: top;\n",
       "    }\n",
       "\n",
       "    .dataframe thead th {\n",
       "        text-align: right;\n",
       "    }\n",
       "</style>\n",
       "<table border=\"1\" class=\"dataframe\">\n",
       "  <thead>\n",
       "    <tr style=\"text-align: right;\">\n",
       "      <th></th>\n",
       "      <th>subreddit</th>\n",
       "      <th>title</th>\n",
       "      <th>num_comments</th>\n",
       "      <th>up votes</th>\n",
       "      <th>down votes</th>\n",
       "      <th>urls</th>\n",
       "      <th>permalink</th>\n",
       "      <th>ids</th>\n",
       "      <th>subscribers</th>\n",
       "    </tr>\n",
       "  </thead>\n",
       "  <tbody>\n",
       "    <tr>\n",
       "      <th>0</th>\n",
       "      <td>Barca</td>\n",
       "      <td>Post Match Thread: Levante UD 0-5 FC Barcelona...</td>\n",
       "      <td>181</td>\n",
       "      <td>114</td>\n",
       "      <td>0</td>\n",
       "      <td>https://www.reddit.com/r/Barca/comments/a6t8oj...</td>\n",
       "      <td>/r/Barca/comments/a6t8oj/post_match_thread_lev...</td>\n",
       "      <td>a6t8oj</td>\n",
       "      <td>38824</td>\n",
       "    </tr>\n",
       "    <tr>\n",
       "      <th>1</th>\n",
       "      <td>Barca</td>\n",
       "      <td>Open Thread: Art, photos, videos, general ques...</td>\n",
       "      <td>797</td>\n",
       "      <td>36</td>\n",
       "      <td>0</td>\n",
       "      <td>https://www.reddit.com/r/Barca/comments/a6zeun...</td>\n",
       "      <td>/r/Barca/comments/a6zeun/open_thread_art_photo...</td>\n",
       "      <td>a6zeun</td>\n",
       "      <td>38824</td>\n",
       "    </tr>\n",
       "  </tbody>\n",
       "</table>\n",
       "</div>"
      ],
      "text/plain": [
       "  subreddit                                              title  num_comments  \\\n",
       "0     Barca  Post Match Thread: Levante UD 0-5 FC Barcelona...           181   \n",
       "1     Barca  Open Thread: Art, photos, videos, general ques...           797   \n",
       "\n",
       "   up votes  down votes                                               urls  \\\n",
       "0       114           0  https://www.reddit.com/r/Barca/comments/a6t8oj...   \n",
       "1        36           0  https://www.reddit.com/r/Barca/comments/a6zeun...   \n",
       "\n",
       "                                           permalink     ids  subscribers  \n",
       "0  /r/Barca/comments/a6t8oj/post_match_thread_lev...  a6t8oj        38824  \n",
       "1  /r/Barca/comments/a6zeun/open_thread_art_photo...  a6zeun        38824  "
      ]
     },
     "execution_count": 30,
     "metadata": {},
     "output_type": "execute_result"
    }
   ],
   "source": [
    "# Check CSV head\n",
    "pd.read_csv('./dfs.csv').head(2)"
   ]
  },
  {
   "cell_type": "code",
   "execution_count": 31,
   "metadata": {},
   "outputs": [
    {
     "data": {
      "text/html": [
       "<div>\n",
       "<style scoped>\n",
       "    .dataframe tbody tr th:only-of-type {\n",
       "        vertical-align: middle;\n",
       "    }\n",
       "\n",
       "    .dataframe tbody tr th {\n",
       "        vertical-align: top;\n",
       "    }\n",
       "\n",
       "    .dataframe thead th {\n",
       "        text-align: right;\n",
       "    }\n",
       "</style>\n",
       "<table border=\"1\" class=\"dataframe\">\n",
       "  <thead>\n",
       "    <tr style=\"text-align: right;\">\n",
       "      <th></th>\n",
       "      <th>subreddit</th>\n",
       "      <th>title</th>\n",
       "      <th>num_comments</th>\n",
       "      <th>up votes</th>\n",
       "      <th>down votes</th>\n",
       "      <th>urls</th>\n",
       "      <th>permalink</th>\n",
       "      <th>ids</th>\n",
       "      <th>subscribers</th>\n",
       "    </tr>\n",
       "  </thead>\n",
       "  <tbody>\n",
       "    <tr>\n",
       "      <th>2230</th>\n",
       "      <td>realmadrid</td>\n",
       "      <td>Captain for tonight's game against Bosnia</td>\n",
       "      <td>6</td>\n",
       "      <td>27</td>\n",
       "      <td>0</td>\n",
       "      <td>https://www.reddit.com/r/realmadrid/comments/9...</td>\n",
       "      <td>/r/realmadrid/comments/9y93no/captain_for_toni...</td>\n",
       "      <td>9y93no</td>\n",
       "      <td>31890</td>\n",
       "    </tr>\n",
       "    <tr>\n",
       "      <th>2231</th>\n",
       "      <td>realmadrid</td>\n",
       "      <td>Do you think James can play the CM role?</td>\n",
       "      <td>21</td>\n",
       "      <td>8</td>\n",
       "      <td>0</td>\n",
       "      <td>https://www.reddit.com/r/realmadrid/comments/9...</td>\n",
       "      <td>/r/realmadrid/comments/9y9a0n/do_you_think_jam...</td>\n",
       "      <td>9y9a0n</td>\n",
       "      <td>31890</td>\n",
       "    </tr>\n",
       "  </tbody>\n",
       "</table>\n",
       "</div>"
      ],
      "text/plain": [
       "       subreddit                                      title  num_comments  \\\n",
       "2230  realmadrid  Captain for tonight's game against Bosnia             6   \n",
       "2231  realmadrid   Do you think James can play the CM role?            21   \n",
       "\n",
       "      up votes  down votes                                               urls  \\\n",
       "2230        27           0  https://www.reddit.com/r/realmadrid/comments/9...   \n",
       "2231         8           0  https://www.reddit.com/r/realmadrid/comments/9...   \n",
       "\n",
       "                                              permalink     ids  subscribers  \n",
       "2230  /r/realmadrid/comments/9y93no/captain_for_toni...  9y93no        31890  \n",
       "2231  /r/realmadrid/comments/9y9a0n/do_you_think_jam...  9y9a0n        31890  "
      ]
     },
     "execution_count": 31,
     "metadata": {},
     "output_type": "execute_result"
    }
   ],
   "source": [
    "# Check CSV tail\n",
    "pd.read_csv('./dfs.csv').tail(2)"
   ]
  },
  {
   "cell_type": "markdown",
   "metadata": {},
   "source": [
    "## End of this File"
   ]
  },
  {
   "cell_type": "code",
   "execution_count": 32,
   "metadata": {},
   "outputs": [
    {
     "data": {
      "text/plain": [
       "1655"
      ]
     },
     "execution_count": 32,
     "metadata": {},
     "output_type": "execute_result"
    }
   ],
   "source": [
    "len(df['ids'].unique())"
   ]
  },
  {
   "cell_type": "code",
   "execution_count": 33,
   "metadata": {},
   "outputs": [
    {
     "data": {
      "text/plain": [
       "(2232, 9)"
      ]
     },
     "execution_count": 33,
     "metadata": {},
     "output_type": "execute_result"
    }
   ],
   "source": [
    "df.shape"
   ]
  }
 ],
 "metadata": {
  "kernelspec": {
   "display_name": "Python 3",
   "language": "python",
   "name": "python3"
  },
  "language_info": {
   "codemirror_mode": {
    "name": "ipython",
    "version": 3
   },
   "file_extension": ".py",
   "mimetype": "text/x-python",
   "name": "python",
   "nbconvert_exporter": "python",
   "pygments_lexer": "ipython3",
   "version": "3.6.6"
  }
 },
 "nbformat": 4,
 "nbformat_minor": 2
}

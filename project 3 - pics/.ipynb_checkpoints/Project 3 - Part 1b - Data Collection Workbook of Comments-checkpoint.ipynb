{
 "cells": [
  {
   "cell_type": "markdown",
   "metadata": {},
   "source": [
    "<center>\n",
    "    \n",
    "# Part 1b: Data Collection Workbook of Comments\n",
    "\n",
    "## Christopher Williams Project 3\n",
    "\n",
    "# Barcelona vs Real Madrid - El Clásico de Reddit\n",
    "\n",
    "### Dataset of Subreddits Comments\n",
    "\n",
    "#### Final dataframe of of Subreddit Comments is \"dfc\"\n",
    "</center>"
   ]
  },
  {
   "cell_type": "markdown",
   "metadata": {},
   "source": [
    "#### Summary of comment data from 2 subreddits \n",
    "\n",
    "Subreddits of FC Barcelona and Real Madrid futbol clubs based in Spain.\n",
    "\n",
    "* https://www.reddit.com/r/Barca/ \n",
    "* https://www.reddit.com/r/realmadrid/ \n",
    "\n",
    "\n",
    "I collected comments from various threads over the course of the past year. I had to run two different data collection models for both Barca and realmadrid subreddits in order to collect enough comments from both subreddits. \n",
    "\n",
    "Data Collected from\n",
    "* https://api.pushshift.io/reddit/search/comment/?subreddit=Barca\n",
    "* https://api.pushshift.io/reddit/search/comment/?subreddit=realmadrid\n",
    "\n",
    "- more from  https://github.com/pushshift/api\n",
    "\n",
    "\n",
    "\n"
   ]
  },
  {
   "cell_type": "code",
   "execution_count": 1,
   "metadata": {},
   "outputs": [],
   "source": [
    "import requests\n",
    "import json\n",
    "import time\n",
    "import pandas as pd\n",
    "import numpy as np\n",
    "\n",
    "pd.options.display.max_columns=250\n",
    "pd.options.display.max_rows=250\n",
    "\n",
    "import warnings\n",
    "warnings.simplefilter(action='ignore', category=FutureWarning)"
   ]
  },
  {
   "cell_type": "code",
   "execution_count": 2,
   "metadata": {},
   "outputs": [],
   "source": [
    "# create custom user agent\n",
    "headers = {'User-agent': 'bleepbleep bot 0.1'}"
   ]
  },
  {
   "cell_type": "markdown",
   "metadata": {},
   "source": [
    "## Create DataFrames from FC Barcelona Subreddit"
   ]
  },
  {
   "cell_type": "markdown",
   "metadata": {},
   "source": [
    "### Create First DataFrame of dfb of Barca Subreddit"
   ]
  },
  {
   "cell_type": "code",
   "execution_count": 3,
   "metadata": {},
   "outputs": [
    {
     "name": "stdout",
     "output_type": "stream",
     "text": [
      "through 4\n",
      "through 8\n",
      "through 12\n",
      "through 16\n",
      "Shape of dfb: (996, 6)\n"
     ]
    }
   ],
   "source": [
    "counter = 0\n",
    "\n",
    "for i in range(1,20):\n",
    "    counter +=1\n",
    "    if counter % 4 == 0:\n",
    "        print(f'through {counter}')        \n",
    "    url_b = \"https://api.pushshift.io/reddit/search/comment/?subreddit=Barca&before={}&sort=des&size=1000\".format(1545272472 - i*1036800)\n",
    "    res = requests.get(url_b, headers=headers)\n",
    "    if res.status_code == 200:\n",
    "        jsonb = res.json()\n",
    "        dfb = pd.DataFrame(jsonb['data'])\n",
    "        dfb = dfb[['subreddit','body','created_utc','id','link_id','parent_id']]\n",
    "        dfb = dfb[dfb['body']!='[removed]']\n",
    "    else: \n",
    "        print(res.status_code)\n",
    "        break\n",
    "    time.sleep(.05)      # in order to give break on server \n",
    "\n",
    "print('Shape of dfb: ' + str(dfb.shape))"
   ]
  },
  {
   "cell_type": "code",
   "execution_count": 4,
   "metadata": {},
   "outputs": [
    {
     "data": {
      "text/plain": [
       "(996, 6)"
      ]
     },
     "execution_count": 4,
     "metadata": {},
     "output_type": "execute_result"
    }
   ],
   "source": [
    "# check shape of dfb of Barca subreddit \n",
    "dfb.shape"
   ]
  },
  {
   "cell_type": "code",
   "execution_count": 5,
   "metadata": {
    "scrolled": false
   },
   "outputs": [
    {
     "data": {
      "text/html": [
       "<div>\n",
       "<style scoped>\n",
       "    .dataframe tbody tr th:only-of-type {\n",
       "        vertical-align: middle;\n",
       "    }\n",
       "\n",
       "    .dataframe tbody tr th {\n",
       "        vertical-align: top;\n",
       "    }\n",
       "\n",
       "    .dataframe thead th {\n",
       "        text-align: right;\n",
       "    }\n",
       "</style>\n",
       "<table border=\"1\" class=\"dataframe\">\n",
       "  <thead>\n",
       "    <tr style=\"text-align: right;\">\n",
       "      <th></th>\n",
       "      <th>subreddit</th>\n",
       "      <th>body</th>\n",
       "      <th>created_utc</th>\n",
       "      <th>id</th>\n",
       "      <th>link_id</th>\n",
       "      <th>parent_id</th>\n",
       "    </tr>\n",
       "  </thead>\n",
       "  <tbody>\n",
       "    <tr>\n",
       "      <th>0</th>\n",
       "      <td>Barca</td>\n",
       "      <td>The Tavern on 12th! The F.C. Barcelona Penya, ...</td>\n",
       "      <td>1525573121</td>\n",
       "      <td>dyioab8</td>\n",
       "      <td>t3_8hazib</td>\n",
       "      <td>t3_8hazib</td>\n",
       "    </tr>\n",
       "    <tr>\n",
       "      <th>1</th>\n",
       "      <td>Barca</td>\n",
       "      <td>How about Puyol and Raúl?</td>\n",
       "      <td>1525572556</td>\n",
       "      <td>dyints8</td>\n",
       "      <td>t3_8h7que</td>\n",
       "      <td>t1_dyhqxbw</td>\n",
       "    </tr>\n",
       "    <tr>\n",
       "      <th>2</th>\n",
       "      <td>Barca</td>\n",
       "      <td>Tap 24 by campus is fun too, just get there ea...</td>\n",
       "      <td>1525572535</td>\n",
       "      <td>dyint5g</td>\n",
       "      <td>t3_8hazib</td>\n",
       "      <td>t3_8hazib</td>\n",
       "    </tr>\n",
       "    <tr>\n",
       "      <th>3</th>\n",
       "      <td>Barca</td>\n",
       "      <td>They were a rip off about 1200$ each category 2</td>\n",
       "      <td>1525571525</td>\n",
       "      <td>dyimzkp</td>\n",
       "      <td>t3_8h6e1p</td>\n",
       "      <td>t1_dyimwte</td>\n",
       "    </tr>\n",
       "    <tr>\n",
       "      <th>4</th>\n",
       "      <td>Barca</td>\n",
       "      <td>Ah gotcha. How much were the tickets for you i...</td>\n",
       "      <td>1525571433</td>\n",
       "      <td>dyimwte</td>\n",
       "      <td>t3_8h6e1p</td>\n",
       "      <td>t1_dyime71</td>\n",
       "    </tr>\n",
       "  </tbody>\n",
       "</table>\n",
       "</div>"
      ],
      "text/plain": [
       "  subreddit                                               body  created_utc  \\\n",
       "0     Barca  The Tavern on 12th! The F.C. Barcelona Penya, ...   1525573121   \n",
       "1     Barca                          How about Puyol and Raúl?   1525572556   \n",
       "2     Barca  Tap 24 by campus is fun too, just get there ea...   1525572535   \n",
       "3     Barca    They were a rip off about 1200$ each category 2   1525571525   \n",
       "4     Barca  Ah gotcha. How much were the tickets for you i...   1525571433   \n",
       "\n",
       "        id    link_id   parent_id  \n",
       "0  dyioab8  t3_8hazib   t3_8hazib  \n",
       "1  dyints8  t3_8h7que  t1_dyhqxbw  \n",
       "2  dyint5g  t3_8hazib   t3_8hazib  \n",
       "3  dyimzkp  t3_8h6e1p  t1_dyimwte  \n",
       "4  dyimwte  t3_8h6e1p  t1_dyime71  "
      ]
     },
     "execution_count": 5,
     "metadata": {},
     "output_type": "execute_result"
    }
   ],
   "source": [
    "# check head of dfb of Barca subreddit \n",
    "dfb.head()"
   ]
  },
  {
   "cell_type": "code",
   "execution_count": 6,
   "metadata": {
    "scrolled": false
   },
   "outputs": [
    {
     "data": {
      "text/plain": [
       "996"
      ]
     },
     "execution_count": 6,
     "metadata": {},
     "output_type": "execute_result"
    }
   ],
   "source": [
    "len(dfb['id'].unique())"
   ]
  },
  {
   "cell_type": "markdown",
   "metadata": {},
   "source": [
    "### Create Second dataframe of dfb2 of Barca Subreddit"
   ]
  },
  {
   "cell_type": "code",
   "execution_count": 7,
   "metadata": {},
   "outputs": [
    {
     "name": "stdout",
     "output_type": "stream",
     "text": [
      "through 4\n",
      "through 8\n",
      "through 12\n",
      "through 16\n",
      "Shape of dfb2: (980, 6)\n"
     ]
    }
   ],
   "source": [
    "counter = 0\n",
    "\n",
    "for i in range(21,40):\n",
    "    counter +=1\n",
    "    if counter % 4 == 0:\n",
    "        print(f'through {counter}')        \n",
    "    url_b = \"https://api.pushshift.io/reddit/search/comment/?subreddit=Barca&before={}&sort=des&size=1000\".format(1545272472 - i*1036800)\n",
    "    res = requests.get(url_b, headers=headers)\n",
    "    if res.status_code == 200:\n",
    "        jsonb = res.json()\n",
    "        dfb2 = pd.DataFrame(jsonb['data'])\n",
    "        dfb2 = dfb2[['subreddit','body','created_utc','id','link_id','parent_id']]\n",
    "        dfb2 = dfb2[dfb2['body']!='[removed]']\n",
    "    else: \n",
    "        print(res.status_code)\n",
    "        break\n",
    "    time.sleep(.05)      # in order to give break on server \n",
    "\n",
    "print('Shape of dfb2: ' + str(dfb2.shape))"
   ]
  },
  {
   "cell_type": "code",
   "execution_count": 8,
   "metadata": {},
   "outputs": [
    {
     "data": {
      "text/plain": [
       "(980, 6)"
      ]
     },
     "execution_count": 8,
     "metadata": {},
     "output_type": "execute_result"
    }
   ],
   "source": [
    "# check shape of dfb2 of Barca subreddit \n",
    "dfb2.shape"
   ]
  },
  {
   "cell_type": "code",
   "execution_count": 9,
   "metadata": {
    "scrolled": true
   },
   "outputs": [
    {
     "data": {
      "text/html": [
       "<div>\n",
       "<style scoped>\n",
       "    .dataframe tbody tr th:only-of-type {\n",
       "        vertical-align: middle;\n",
       "    }\n",
       "\n",
       "    .dataframe tbody tr th {\n",
       "        vertical-align: top;\n",
       "    }\n",
       "\n",
       "    .dataframe thead th {\n",
       "        text-align: right;\n",
       "    }\n",
       "</style>\n",
       "<table border=\"1\" class=\"dataframe\">\n",
       "  <thead>\n",
       "    <tr style=\"text-align: right;\">\n",
       "      <th></th>\n",
       "      <th>subreddit</th>\n",
       "      <th>body</th>\n",
       "      <th>created_utc</th>\n",
       "      <th>id</th>\n",
       "      <th>link_id</th>\n",
       "      <th>parent_id</th>\n",
       "    </tr>\n",
       "  </thead>\n",
       "  <tbody>\n",
       "    <tr>\n",
       "      <th>0</th>\n",
       "      <td>Barca</td>\n",
       "      <td>How so? I don't agree with what they represent...</td>\n",
       "      <td>1504836745</td>\n",
       "      <td>dmpoft7</td>\n",
       "      <td>t3_6yadpe</td>\n",
       "      <td>t1_dmltgdq</td>\n",
       "    </tr>\n",
       "    <tr>\n",
       "      <th>1</th>\n",
       "      <td>Barca</td>\n",
       "      <td>[deleted]</td>\n",
       "      <td>1504836501</td>\n",
       "      <td>dmpo8tj</td>\n",
       "      <td>t3_6yrqfb</td>\n",
       "      <td>t3_6yrqfb</td>\n",
       "    </tr>\n",
       "    <tr>\n",
       "      <th>2</th>\n",
       "      <td>Barca</td>\n",
       "      <td>You think way too much about the politics behi...</td>\n",
       "      <td>1504836107</td>\n",
       "      <td>dmpnx6n</td>\n",
       "      <td>t3_6yrqfb</td>\n",
       "      <td>t3_6yrqfb</td>\n",
       "    </tr>\n",
       "    <tr>\n",
       "      <th>3</th>\n",
       "      <td>Barca</td>\n",
       "      <td>And he's also been said many times it wasn't j...</td>\n",
       "      <td>1504835311</td>\n",
       "      <td>dmpn89x</td>\n",
       "      <td>t3_6yih6l</td>\n",
       "      <td>t1_dmnp0uh</td>\n",
       "    </tr>\n",
       "    <tr>\n",
       "      <th>4</th>\n",
       "      <td>Barca</td>\n",
       "      <td>Because people can't let it go. He's old, expe...</td>\n",
       "      <td>1504835052</td>\n",
       "      <td>dmpn0jj</td>\n",
       "      <td>t3_6ypb27</td>\n",
       "      <td>t1_dmp4msh</td>\n",
       "    </tr>\n",
       "  </tbody>\n",
       "</table>\n",
       "</div>"
      ],
      "text/plain": [
       "  subreddit                                               body  created_utc  \\\n",
       "0     Barca  How so? I don't agree with what they represent...   1504836745   \n",
       "1     Barca                                          [deleted]   1504836501   \n",
       "2     Barca  You think way too much about the politics behi...   1504836107   \n",
       "3     Barca  And he's also been said many times it wasn't j...   1504835311   \n",
       "4     Barca  Because people can't let it go. He's old, expe...   1504835052   \n",
       "\n",
       "        id    link_id   parent_id  \n",
       "0  dmpoft7  t3_6yadpe  t1_dmltgdq  \n",
       "1  dmpo8tj  t3_6yrqfb   t3_6yrqfb  \n",
       "2  dmpnx6n  t3_6yrqfb   t3_6yrqfb  \n",
       "3  dmpn89x  t3_6yih6l  t1_dmnp0uh  \n",
       "4  dmpn0jj  t3_6ypb27  t1_dmp4msh  "
      ]
     },
     "execution_count": 9,
     "metadata": {},
     "output_type": "execute_result"
    }
   ],
   "source": [
    "# check head of dfb2 of Barca subreddit \n",
    "dfb2.head()"
   ]
  },
  {
   "cell_type": "markdown",
   "metadata": {},
   "source": [
    "### Create df_combined of concatenated dfb and dfb2"
   ]
  },
  {
   "cell_type": "code",
   "execution_count": 10,
   "metadata": {},
   "outputs": [
    {
     "data": {
      "text/html": [
       "<div>\n",
       "<style scoped>\n",
       "    .dataframe tbody tr th:only-of-type {\n",
       "        vertical-align: middle;\n",
       "    }\n",
       "\n",
       "    .dataframe tbody tr th {\n",
       "        vertical-align: top;\n",
       "    }\n",
       "\n",
       "    .dataframe thead th {\n",
       "        text-align: right;\n",
       "    }\n",
       "</style>\n",
       "<table border=\"1\" class=\"dataframe\">\n",
       "  <thead>\n",
       "    <tr style=\"text-align: right;\">\n",
       "      <th></th>\n",
       "      <th>subreddit</th>\n",
       "      <th>body</th>\n",
       "      <th>created_utc</th>\n",
       "      <th>id</th>\n",
       "      <th>link_id</th>\n",
       "      <th>parent_id</th>\n",
       "    </tr>\n",
       "  </thead>\n",
       "  <tbody>\n",
       "    <tr>\n",
       "      <th>0</th>\n",
       "      <td>Barca</td>\n",
       "      <td>The Tavern on 12th! The F.C. Barcelona Penya, ...</td>\n",
       "      <td>1525573121</td>\n",
       "      <td>dyioab8</td>\n",
       "      <td>t3_8hazib</td>\n",
       "      <td>t3_8hazib</td>\n",
       "    </tr>\n",
       "    <tr>\n",
       "      <th>1</th>\n",
       "      <td>Barca</td>\n",
       "      <td>How about Puyol and Raúl?</td>\n",
       "      <td>1525572556</td>\n",
       "      <td>dyints8</td>\n",
       "      <td>t3_8h7que</td>\n",
       "      <td>t1_dyhqxbw</td>\n",
       "    </tr>\n",
       "    <tr>\n",
       "      <th>2</th>\n",
       "      <td>Barca</td>\n",
       "      <td>Tap 24 by campus is fun too, just get there ea...</td>\n",
       "      <td>1525572535</td>\n",
       "      <td>dyint5g</td>\n",
       "      <td>t3_8hazib</td>\n",
       "      <td>t3_8hazib</td>\n",
       "    </tr>\n",
       "    <tr>\n",
       "      <th>3</th>\n",
       "      <td>Barca</td>\n",
       "      <td>They were a rip off about 1200$ each category 2</td>\n",
       "      <td>1525571525</td>\n",
       "      <td>dyimzkp</td>\n",
       "      <td>t3_8h6e1p</td>\n",
       "      <td>t1_dyimwte</td>\n",
       "    </tr>\n",
       "    <tr>\n",
       "      <th>4</th>\n",
       "      <td>Barca</td>\n",
       "      <td>Ah gotcha. How much were the tickets for you i...</td>\n",
       "      <td>1525571433</td>\n",
       "      <td>dyimwte</td>\n",
       "      <td>t3_8h6e1p</td>\n",
       "      <td>t1_dyime71</td>\n",
       "    </tr>\n",
       "  </tbody>\n",
       "</table>\n",
       "</div>"
      ],
      "text/plain": [
       "  subreddit                                               body  created_utc  \\\n",
       "0     Barca  The Tavern on 12th! The F.C. Barcelona Penya, ...   1525573121   \n",
       "1     Barca                          How about Puyol and Raúl?   1525572556   \n",
       "2     Barca  Tap 24 by campus is fun too, just get there ea...   1525572535   \n",
       "3     Barca    They were a rip off about 1200$ each category 2   1525571525   \n",
       "4     Barca  Ah gotcha. How much were the tickets for you i...   1525571433   \n",
       "\n",
       "        id    link_id   parent_id  \n",
       "0  dyioab8  t3_8hazib   t3_8hazib  \n",
       "1  dyints8  t3_8h7que  t1_dyhqxbw  \n",
       "2  dyint5g  t3_8hazib   t3_8hazib  \n",
       "3  dyimzkp  t3_8h6e1p  t1_dyimwte  \n",
       "4  dyimwte  t3_8h6e1p  t1_dyime71  "
      ]
     },
     "execution_count": 10,
     "metadata": {},
     "output_type": "execute_result"
    }
   ],
   "source": [
    "# Create df of concated dfb and dfb2\n",
    "dfb_combined = pd.concat([dfb, dfb2], axis=0, ignore_index=True)\n",
    "dfb_combined.head()"
   ]
  },
  {
   "cell_type": "code",
   "execution_count": 11,
   "metadata": {},
   "outputs": [
    {
     "data": {
      "text/plain": [
       "1976"
      ]
     },
     "execution_count": 11,
     "metadata": {},
     "output_type": "execute_result"
    }
   ],
   "source": [
    "len(dfb_combined['id'].unique())"
   ]
  },
  {
   "cell_type": "markdown",
   "metadata": {},
   "source": [
    "## Create DataFrames from Real Madrid Subreddit"
   ]
  },
  {
   "cell_type": "markdown",
   "metadata": {},
   "source": [
    "### Create First dataframe of dfr of Real Madrid Subreddit"
   ]
  },
  {
   "cell_type": "code",
   "execution_count": 12,
   "metadata": {},
   "outputs": [
    {
     "name": "stdout",
     "output_type": "stream",
     "text": [
      "through 4\n",
      "through 8\n",
      "through 12\n",
      "through 16\n",
      "Shape of dfr: (969, 6)\n"
     ]
    }
   ],
   "source": [
    "counter = 0\n",
    "\n",
    "for i in range(1,20):\n",
    "    counter +=1\n",
    "    if counter % 4 == 0:\n",
    "        print(f'through {counter}')        \n",
    "    url_r = \"https://api.pushshift.io/reddit/search/comment/?subreddit=realmadrid&before={}&sort=des&size=1000\".format(1545272472 - i*1036800)\n",
    "    res = requests.get(url_r, headers=headers)\n",
    "    if res.status_code == 200:\n",
    "        jsonr = res.json()\n",
    "        dfr = pd.DataFrame(jsonr['data'])\n",
    "        dfr = dfr[['subreddit','body','created_utc','id','link_id','parent_id']]\n",
    "        dfr = dfr[dfr['body']!='[removed]']\n",
    "    else: \n",
    "        print(res.status_code)\n",
    "        break\n",
    "    time.sleep(.05)      # in order to give break on server \n",
    "\n",
    "print('Shape of dfr: ' + str(dfr.shape))"
   ]
  },
  {
   "cell_type": "code",
   "execution_count": 13,
   "metadata": {},
   "outputs": [
    {
     "data": {
      "text/plain": [
       "(969, 6)"
      ]
     },
     "execution_count": 13,
     "metadata": {},
     "output_type": "execute_result"
    }
   ],
   "source": [
    "# check shape of dfr of Real Madrid's subreddit \n",
    "dfr.shape"
   ]
  },
  {
   "cell_type": "code",
   "execution_count": 14,
   "metadata": {
    "scrolled": true
   },
   "outputs": [
    {
     "data": {
      "text/html": [
       "<div>\n",
       "<style scoped>\n",
       "    .dataframe tbody tr th:only-of-type {\n",
       "        vertical-align: middle;\n",
       "    }\n",
       "\n",
       "    .dataframe tbody tr th {\n",
       "        vertical-align: top;\n",
       "    }\n",
       "\n",
       "    .dataframe thead th {\n",
       "        text-align: right;\n",
       "    }\n",
       "</style>\n",
       "<table border=\"1\" class=\"dataframe\">\n",
       "  <thead>\n",
       "    <tr style=\"text-align: right;\">\n",
       "      <th></th>\n",
       "      <th>subreddit</th>\n",
       "      <th>body</th>\n",
       "      <th>created_utc</th>\n",
       "      <th>id</th>\n",
       "      <th>link_id</th>\n",
       "      <th>parent_id</th>\n",
       "    </tr>\n",
       "  </thead>\n",
       "  <tbody>\n",
       "    <tr>\n",
       "      <th>0</th>\n",
       "      <td>realmadrid</td>\n",
       "      <td>Because I absolutely hate Dutch football. It's...</td>\n",
       "      <td>1525573170</td>\n",
       "      <td>dyiobor</td>\n",
       "      <td>t3_8gue84</td>\n",
       "      <td>t1_dyi9vep</td>\n",
       "    </tr>\n",
       "    <tr>\n",
       "      <th>1</th>\n",
       "      <td>realmadrid</td>\n",
       "      <td>It's youtube what did you expect</td>\n",
       "      <td>1525572953</td>\n",
       "      <td>dyio5ir</td>\n",
       "      <td>t3_8h8rxy</td>\n",
       "      <td>t1_dyi1jim</td>\n",
       "    </tr>\n",
       "    <tr>\n",
       "      <th>2</th>\n",
       "      <td>realmadrid</td>\n",
       "      <td>I want 5-0 to us, and Keylor Navas scoring a f...</td>\n",
       "      <td>1525572589</td>\n",
       "      <td>dyinuqj</td>\n",
       "      <td>t3_8hafod</td>\n",
       "      <td>t3_8hafod</td>\n",
       "    </tr>\n",
       "    <tr>\n",
       "      <th>3</th>\n",
       "      <td>realmadrid</td>\n",
       "      <td>Well,klopp is also not the only reason liverpo...</td>\n",
       "      <td>1525572336</td>\n",
       "      <td>dyinn8x</td>\n",
       "      <td>t3_8h74qb</td>\n",
       "      <td>t1_dyi754j</td>\n",
       "    </tr>\n",
       "    <tr>\n",
       "      <th>4</th>\n",
       "      <td>realmadrid</td>\n",
       "      <td>Real Madrid already took the high road when th...</td>\n",
       "      <td>1525572167</td>\n",
       "      <td>dyinibf</td>\n",
       "      <td>t3_8h7hs5</td>\n",
       "      <td>t1_dyhwqi6</td>\n",
       "    </tr>\n",
       "  </tbody>\n",
       "</table>\n",
       "</div>"
      ],
      "text/plain": [
       "    subreddit                                               body  created_utc  \\\n",
       "0  realmadrid  Because I absolutely hate Dutch football. It's...   1525573170   \n",
       "1  realmadrid                   It's youtube what did you expect   1525572953   \n",
       "2  realmadrid  I want 5-0 to us, and Keylor Navas scoring a f...   1525572589   \n",
       "3  realmadrid  Well,klopp is also not the only reason liverpo...   1525572336   \n",
       "4  realmadrid  Real Madrid already took the high road when th...   1525572167   \n",
       "\n",
       "        id    link_id   parent_id  \n",
       "0  dyiobor  t3_8gue84  t1_dyi9vep  \n",
       "1  dyio5ir  t3_8h8rxy  t1_dyi1jim  \n",
       "2  dyinuqj  t3_8hafod   t3_8hafod  \n",
       "3  dyinn8x  t3_8h74qb  t1_dyi754j  \n",
       "4  dyinibf  t3_8h7hs5  t1_dyhwqi6  "
      ]
     },
     "execution_count": 14,
     "metadata": {},
     "output_type": "execute_result"
    }
   ],
   "source": [
    "# check head of dfr of Real Madrid's subreddit \n",
    "dfr.head()"
   ]
  },
  {
   "cell_type": "code",
   "execution_count": 15,
   "metadata": {},
   "outputs": [
    {
     "data": {
      "text/plain": [
       "969"
      ]
     },
     "execution_count": 15,
     "metadata": {},
     "output_type": "execute_result"
    }
   ],
   "source": [
    "len(dfr['id'].unique())"
   ]
  },
  {
   "cell_type": "markdown",
   "metadata": {},
   "source": [
    "### Create Second dataframe of dfr2 of Real Madrid Subreddit"
   ]
  },
  {
   "cell_type": "code",
   "execution_count": 16,
   "metadata": {},
   "outputs": [
    {
     "name": "stdout",
     "output_type": "stream",
     "text": [
      "through 4\n",
      "through 8\n",
      "through 12\n",
      "through 16\n",
      "through 20\n",
      "Shape of dfr2: (980, 6)\n"
     ]
    }
   ],
   "source": [
    "counter = 0\n",
    "\n",
    "for i in range(21,41):\n",
    "    counter +=1\n",
    "    if counter % 4 == 0:\n",
    "        print(f'through {counter}')        \n",
    "    url_r = \"https://api.pushshift.io/reddit/search/comment/?subreddit=realmadrid&before={}&sort=des&size=1000\".format(1545272472 - i*1036800)\n",
    "    res = requests.get(url_r, headers=headers)\n",
    "    if res.status_code == 200:\n",
    "        jsonr = res.json()\n",
    "        dfr2 = pd.DataFrame(jsonr['data'])\n",
    "        dfr2 = dfr2[['subreddit','body','created_utc','id','link_id','parent_id']]\n",
    "        dfr2 = dfr2[dfr2['body']!='[removed]']\n",
    "    else: \n",
    "        print(res.status_code)\n",
    "        break\n",
    "    time.sleep(.05)      # in order to give break on server \n",
    "\n",
    "print('Shape of dfr2: ' + str(dfr2.shape))"
   ]
  },
  {
   "cell_type": "code",
   "execution_count": 17,
   "metadata": {},
   "outputs": [
    {
     "data": {
      "text/plain": [
       "(980, 6)"
      ]
     },
     "execution_count": 17,
     "metadata": {},
     "output_type": "execute_result"
    }
   ],
   "source": [
    "# check shape of dfr2 of Real Madrid's subreddit \n",
    "dfr2.shape"
   ]
  },
  {
   "cell_type": "code",
   "execution_count": 18,
   "metadata": {},
   "outputs": [
    {
     "data": {
      "text/plain": [
       "980"
      ]
     },
     "execution_count": 18,
     "metadata": {},
     "output_type": "execute_result"
    }
   ],
   "source": [
    "len(dfr2['id'].unique())"
   ]
  },
  {
   "cell_type": "markdown",
   "metadata": {},
   "source": [
    "### Create df_combined of concatenated dfb and dfb2"
   ]
  },
  {
   "cell_type": "code",
   "execution_count": 19,
   "metadata": {},
   "outputs": [
    {
     "data": {
      "text/html": [
       "<div>\n",
       "<style scoped>\n",
       "    .dataframe tbody tr th:only-of-type {\n",
       "        vertical-align: middle;\n",
       "    }\n",
       "\n",
       "    .dataframe tbody tr th {\n",
       "        vertical-align: top;\n",
       "    }\n",
       "\n",
       "    .dataframe thead th {\n",
       "        text-align: right;\n",
       "    }\n",
       "</style>\n",
       "<table border=\"1\" class=\"dataframe\">\n",
       "  <thead>\n",
       "    <tr style=\"text-align: right;\">\n",
       "      <th></th>\n",
       "      <th>subreddit</th>\n",
       "      <th>body</th>\n",
       "      <th>created_utc</th>\n",
       "      <th>id</th>\n",
       "      <th>link_id</th>\n",
       "      <th>parent_id</th>\n",
       "    </tr>\n",
       "  </thead>\n",
       "  <tbody>\n",
       "    <tr>\n",
       "      <th>0</th>\n",
       "      <td>realmadrid</td>\n",
       "      <td>Because I absolutely hate Dutch football. It's...</td>\n",
       "      <td>1525573170</td>\n",
       "      <td>dyiobor</td>\n",
       "      <td>t3_8gue84</td>\n",
       "      <td>t1_dyi9vep</td>\n",
       "    </tr>\n",
       "    <tr>\n",
       "      <th>1</th>\n",
       "      <td>realmadrid</td>\n",
       "      <td>It's youtube what did you expect</td>\n",
       "      <td>1525572953</td>\n",
       "      <td>dyio5ir</td>\n",
       "      <td>t3_8h8rxy</td>\n",
       "      <td>t1_dyi1jim</td>\n",
       "    </tr>\n",
       "    <tr>\n",
       "      <th>2</th>\n",
       "      <td>realmadrid</td>\n",
       "      <td>I want 5-0 to us, and Keylor Navas scoring a f...</td>\n",
       "      <td>1525572589</td>\n",
       "      <td>dyinuqj</td>\n",
       "      <td>t3_8hafod</td>\n",
       "      <td>t3_8hafod</td>\n",
       "    </tr>\n",
       "    <tr>\n",
       "      <th>3</th>\n",
       "      <td>realmadrid</td>\n",
       "      <td>Well,klopp is also not the only reason liverpo...</td>\n",
       "      <td>1525572336</td>\n",
       "      <td>dyinn8x</td>\n",
       "      <td>t3_8h74qb</td>\n",
       "      <td>t1_dyi754j</td>\n",
       "    </tr>\n",
       "    <tr>\n",
       "      <th>4</th>\n",
       "      <td>realmadrid</td>\n",
       "      <td>Real Madrid already took the high road when th...</td>\n",
       "      <td>1525572167</td>\n",
       "      <td>dyinibf</td>\n",
       "      <td>t3_8h7hs5</td>\n",
       "      <td>t1_dyhwqi6</td>\n",
       "    </tr>\n",
       "  </tbody>\n",
       "</table>\n",
       "</div>"
      ],
      "text/plain": [
       "    subreddit                                               body  created_utc  \\\n",
       "0  realmadrid  Because I absolutely hate Dutch football. It's...   1525573170   \n",
       "1  realmadrid                   It's youtube what did you expect   1525572953   \n",
       "2  realmadrid  I want 5-0 to us, and Keylor Navas scoring a f...   1525572589   \n",
       "3  realmadrid  Well,klopp is also not the only reason liverpo...   1525572336   \n",
       "4  realmadrid  Real Madrid already took the high road when th...   1525572167   \n",
       "\n",
       "        id    link_id   parent_id  \n",
       "0  dyiobor  t3_8gue84  t1_dyi9vep  \n",
       "1  dyio5ir  t3_8h8rxy  t1_dyi1jim  \n",
       "2  dyinuqj  t3_8hafod   t3_8hafod  \n",
       "3  dyinn8x  t3_8h74qb  t1_dyi754j  \n",
       "4  dyinibf  t3_8h7hs5  t1_dyhwqi6  "
      ]
     },
     "execution_count": 19,
     "metadata": {},
     "output_type": "execute_result"
    }
   ],
   "source": [
    "# Create df of concated dfb and dfb2\n",
    "dfr_combined = pd.concat([dfr, dfr2], axis=0, ignore_index=True)\n",
    "dfr_combined.head()"
   ]
  },
  {
   "cell_type": "code",
   "execution_count": 20,
   "metadata": {},
   "outputs": [
    {
     "data": {
      "text/plain": [
       "1949"
      ]
     },
     "execution_count": 20,
     "metadata": {},
     "output_type": "execute_result"
    }
   ],
   "source": [
    "len(dfr_combined['id'].unique())"
   ]
  },
  {
   "cell_type": "markdown",
   "metadata": {},
   "source": [
    "## Create a Dataframe df of both Barca and Real Madrid dataframes (dfb and dfr)"
   ]
  },
  {
   "cell_type": "code",
   "execution_count": 21,
   "metadata": {},
   "outputs": [
    {
     "data": {
      "text/html": [
       "<div>\n",
       "<style scoped>\n",
       "    .dataframe tbody tr th:only-of-type {\n",
       "        vertical-align: middle;\n",
       "    }\n",
       "\n",
       "    .dataframe tbody tr th {\n",
       "        vertical-align: top;\n",
       "    }\n",
       "\n",
       "    .dataframe thead th {\n",
       "        text-align: right;\n",
       "    }\n",
       "</style>\n",
       "<table border=\"1\" class=\"dataframe\">\n",
       "  <thead>\n",
       "    <tr style=\"text-align: right;\">\n",
       "      <th></th>\n",
       "      <th>subreddit</th>\n",
       "      <th>body</th>\n",
       "      <th>created_utc</th>\n",
       "      <th>id</th>\n",
       "      <th>link_id</th>\n",
       "      <th>parent_id</th>\n",
       "    </tr>\n",
       "  </thead>\n",
       "  <tbody>\n",
       "    <tr>\n",
       "      <th>0</th>\n",
       "      <td>Barca</td>\n",
       "      <td>The Tavern on 12th! The F.C. Barcelona Penya, ...</td>\n",
       "      <td>1525573121</td>\n",
       "      <td>dyioab8</td>\n",
       "      <td>t3_8hazib</td>\n",
       "      <td>t3_8hazib</td>\n",
       "    </tr>\n",
       "    <tr>\n",
       "      <th>1</th>\n",
       "      <td>Barca</td>\n",
       "      <td>How about Puyol and Raúl?</td>\n",
       "      <td>1525572556</td>\n",
       "      <td>dyints8</td>\n",
       "      <td>t3_8h7que</td>\n",
       "      <td>t1_dyhqxbw</td>\n",
       "    </tr>\n",
       "    <tr>\n",
       "      <th>2</th>\n",
       "      <td>Barca</td>\n",
       "      <td>Tap 24 by campus is fun too, just get there ea...</td>\n",
       "      <td>1525572535</td>\n",
       "      <td>dyint5g</td>\n",
       "      <td>t3_8hazib</td>\n",
       "      <td>t3_8hazib</td>\n",
       "    </tr>\n",
       "    <tr>\n",
       "      <th>3</th>\n",
       "      <td>Barca</td>\n",
       "      <td>They were a rip off about 1200$ each category 2</td>\n",
       "      <td>1525571525</td>\n",
       "      <td>dyimzkp</td>\n",
       "      <td>t3_8h6e1p</td>\n",
       "      <td>t1_dyimwte</td>\n",
       "    </tr>\n",
       "    <tr>\n",
       "      <th>4</th>\n",
       "      <td>Barca</td>\n",
       "      <td>Ah gotcha. How much were the tickets for you i...</td>\n",
       "      <td>1525571433</td>\n",
       "      <td>dyimwte</td>\n",
       "      <td>t3_8h6e1p</td>\n",
       "      <td>t1_dyime71</td>\n",
       "    </tr>\n",
       "  </tbody>\n",
       "</table>\n",
       "</div>"
      ],
      "text/plain": [
       "  subreddit                                               body  created_utc  \\\n",
       "0     Barca  The Tavern on 12th! The F.C. Barcelona Penya, ...   1525573121   \n",
       "1     Barca                          How about Puyol and Raúl?   1525572556   \n",
       "2     Barca  Tap 24 by campus is fun too, just get there ea...   1525572535   \n",
       "3     Barca    They were a rip off about 1200$ each category 2   1525571525   \n",
       "4     Barca  Ah gotcha. How much were the tickets for you i...   1525571433   \n",
       "\n",
       "        id    link_id   parent_id  \n",
       "0  dyioab8  t3_8hazib   t3_8hazib  \n",
       "1  dyints8  t3_8h7que  t1_dyhqxbw  \n",
       "2  dyint5g  t3_8hazib   t3_8hazib  \n",
       "3  dyimzkp  t3_8h6e1p  t1_dyimwte  \n",
       "4  dyimwte  t3_8h6e1p  t1_dyime71  "
      ]
     },
     "execution_count": 21,
     "metadata": {},
     "output_type": "execute_result"
    }
   ],
   "source": [
    "# Create df of concated dfb and dfr\n",
    "df = pd.concat([dfb_combined, dfr_combined], axis=0, ignore_index=True)\n",
    "df.head()"
   ]
  },
  {
   "cell_type": "code",
   "execution_count": 22,
   "metadata": {},
   "outputs": [
    {
     "data": {
      "text/plain": [
       "(3925, 6)"
      ]
     },
     "execution_count": 22,
     "metadata": {},
     "output_type": "execute_result"
    }
   ],
   "source": [
    "# check shape of df\n",
    "df.shape"
   ]
  },
  {
   "cell_type": "code",
   "execution_count": 23,
   "metadata": {},
   "outputs": [
    {
     "data": {
      "text/plain": [
       "Barca         1976\n",
       "realmadrid    1949\n",
       "Name: subreddit, dtype: int64"
      ]
     },
     "execution_count": 23,
     "metadata": {},
     "output_type": "execute_result"
    }
   ],
   "source": [
    "# check value count of df\n",
    "df.subreddit.value_counts()"
   ]
  },
  {
   "cell_type": "markdown",
   "metadata": {},
   "source": [
    "## Export the dataframe to CSV called Barca_Madrid"
   ]
  },
  {
   "cell_type": "code",
   "execution_count": 24,
   "metadata": {},
   "outputs": [],
   "source": [
    "# print to csv\n",
    "\n",
    "df.to_csv('dfc.csv', index=False)"
   ]
  },
  {
   "cell_type": "code",
   "execution_count": 25,
   "metadata": {},
   "outputs": [
    {
     "data": {
      "text/html": [
       "<div>\n",
       "<style scoped>\n",
       "    .dataframe tbody tr th:only-of-type {\n",
       "        vertical-align: middle;\n",
       "    }\n",
       "\n",
       "    .dataframe tbody tr th {\n",
       "        vertical-align: top;\n",
       "    }\n",
       "\n",
       "    .dataframe thead th {\n",
       "        text-align: right;\n",
       "    }\n",
       "</style>\n",
       "<table border=\"1\" class=\"dataframe\">\n",
       "  <thead>\n",
       "    <tr style=\"text-align: right;\">\n",
       "      <th></th>\n",
       "      <th>subreddit</th>\n",
       "      <th>body</th>\n",
       "      <th>created_utc</th>\n",
       "      <th>id</th>\n",
       "      <th>link_id</th>\n",
       "      <th>parent_id</th>\n",
       "    </tr>\n",
       "  </thead>\n",
       "  <tbody>\n",
       "    <tr>\n",
       "      <th>0</th>\n",
       "      <td>Barca</td>\n",
       "      <td>The Tavern on 12th! The F.C. Barcelona Penya, ...</td>\n",
       "      <td>1525573121</td>\n",
       "      <td>dyioab8</td>\n",
       "      <td>t3_8hazib</td>\n",
       "      <td>t3_8hazib</td>\n",
       "    </tr>\n",
       "    <tr>\n",
       "      <th>1</th>\n",
       "      <td>Barca</td>\n",
       "      <td>How about Puyol and Raúl?</td>\n",
       "      <td>1525572556</td>\n",
       "      <td>dyints8</td>\n",
       "      <td>t3_8h7que</td>\n",
       "      <td>t1_dyhqxbw</td>\n",
       "    </tr>\n",
       "  </tbody>\n",
       "</table>\n",
       "</div>"
      ],
      "text/plain": [
       "  subreddit                                               body  created_utc  \\\n",
       "0     Barca  The Tavern on 12th! The F.C. Barcelona Penya, ...   1525573121   \n",
       "1     Barca                          How about Puyol and Raúl?   1525572556   \n",
       "\n",
       "        id    link_id   parent_id  \n",
       "0  dyioab8  t3_8hazib   t3_8hazib  \n",
       "1  dyints8  t3_8h7que  t1_dyhqxbw  "
      ]
     },
     "execution_count": 25,
     "metadata": {},
     "output_type": "execute_result"
    }
   ],
   "source": [
    "# Check CSV head\n",
    "pd.read_csv('./dfc.csv').head(2)"
   ]
  },
  {
   "cell_type": "code",
   "execution_count": 26,
   "metadata": {
    "scrolled": true
   },
   "outputs": [
    {
     "data": {
      "text/html": [
       "<div>\n",
       "<style scoped>\n",
       "    .dataframe tbody tr th:only-of-type {\n",
       "        vertical-align: middle;\n",
       "    }\n",
       "\n",
       "    .dataframe tbody tr th {\n",
       "        vertical-align: top;\n",
       "    }\n",
       "\n",
       "    .dataframe thead th {\n",
       "        text-align: right;\n",
       "    }\n",
       "</style>\n",
       "<table border=\"1\" class=\"dataframe\">\n",
       "  <thead>\n",
       "    <tr style=\"text-align: right;\">\n",
       "      <th></th>\n",
       "      <th>subreddit</th>\n",
       "      <th>body</th>\n",
       "      <th>created_utc</th>\n",
       "      <th>id</th>\n",
       "      <th>link_id</th>\n",
       "      <th>parent_id</th>\n",
       "    </tr>\n",
       "  </thead>\n",
       "  <tbody>\n",
       "    <tr>\n",
       "      <th>3923</th>\n",
       "      <td>realmadrid</td>\n",
       "      <td>hit up joy and palace lol</td>\n",
       "      <td>1503426055</td>\n",
       "      <td>dlz9642</td>\n",
       "      <td>t3_6v9ggz</td>\n",
       "      <td>t3_6v9ggz</td>\n",
       "    </tr>\n",
       "    <tr>\n",
       "      <th>3924</th>\n",
       "      <td>realmadrid</td>\n",
       "      <td>could be.</td>\n",
       "      <td>1503426042</td>\n",
       "      <td>dlz95mm</td>\n",
       "      <td>t3_6uznv5</td>\n",
       "      <td>t1_dlz902w</td>\n",
       "    </tr>\n",
       "  </tbody>\n",
       "</table>\n",
       "</div>"
      ],
      "text/plain": [
       "       subreddit                       body  created_utc       id    link_id  \\\n",
       "3923  realmadrid  hit up joy and palace lol   1503426055  dlz9642  t3_6v9ggz   \n",
       "3924  realmadrid                  could be.   1503426042  dlz95mm  t3_6uznv5   \n",
       "\n",
       "       parent_id  \n",
       "3923   t3_6v9ggz  \n",
       "3924  t1_dlz902w  "
      ]
     },
     "execution_count": 26,
     "metadata": {},
     "output_type": "execute_result"
    }
   ],
   "source": [
    "# Check CSV tail\n",
    "pd.read_csv('./dfc.csv').tail(2)"
   ]
  },
  {
   "cell_type": "markdown",
   "metadata": {},
   "source": [
    "## End of this File"
   ]
  }
 ],
 "metadata": {
  "kernelspec": {
   "display_name": "Python 3",
   "language": "python",
   "name": "python3"
  },
  "language_info": {
   "codemirror_mode": {
    "name": "ipython",
    "version": 3
   },
   "file_extension": ".py",
   "mimetype": "text/x-python",
   "name": "python",
   "nbconvert_exporter": "python",
   "pygments_lexer": "ipython3",
   "version": "3.6.6"
  }
 },
 "nbformat": 4,
 "nbformat_minor": 2
}
